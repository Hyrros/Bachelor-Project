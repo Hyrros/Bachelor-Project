{
 "cells": [
  {
   "attachments": {},
   "cell_type": "markdown",
   "id": "2eb7d6e5",
   "metadata": {},
   "source": [
    "# Week 1"
   ]
  },
  {
   "attachments": {},
   "cell_type": "markdown",
   "id": "f9a8d40e",
   "metadata": {},
   "source": [
    "## Useful functions"
   ]
  },
  {
   "cell_type": "code",
   "execution_count": 1,
   "id": "9d43cb5e",
   "metadata": {},
   "outputs": [],
   "source": [
    "from functions_week1_2 import *\n",
    "from functions_week3 import *\n",
    "\n",
    "# libraries to import\n",
    "import numpy as np\n",
    "import matplotlib.pyplot as plt"
   ]
  },
  {
   "attachments": {},
   "cell_type": "markdown",
   "id": "48505593",
   "metadata": {},
   "source": [
    "# Week 3"
   ]
  },
  {
   "attachments": {},
   "cell_type": "markdown",
   "id": "2d24fc78",
   "metadata": {},
   "source": [
    "## Goals and Objectives"
   ]
  },
  {
   "attachments": {},
   "cell_type": "markdown",
   "id": "4215921a",
   "metadata": {},
   "source": [
    "- The success probability of explore-then-commit algo, as a function of sub-optimality gap and exploration time. Of course, this is also averaged over 50-100 runs."
   ]
  }
 ],
 "metadata": {
  "kernelspec": {
   "display_name": "base",
   "language": "python",
   "name": "python3"
  },
  "language_info": {
   "codemirror_mode": {
    "name": "ipython",
    "version": 3
   },
   "file_extension": ".py",
   "mimetype": "text/x-python",
   "name": "python",
   "nbconvert_exporter": "python",
   "pygments_lexer": "ipython3",
   "version": "3.9.13"
  },
  "vscode": {
   "interpreter": {
    "hash": "f6c1d182ad9cda928a872b07f254b731257dca6a7e399b43a338bc3c5f0c9f27"
   }
  }
 },
 "nbformat": 4,
 "nbformat_minor": 5
}
